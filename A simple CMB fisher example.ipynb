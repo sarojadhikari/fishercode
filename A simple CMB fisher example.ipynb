{
 "cells": [
  {
   "cell_type": "code",
   "execution_count": 1,
   "metadata": {
    "collapsed": true
   },
   "outputs": [],
   "source": [
    "from cosmology.cosmoparams import Planck2015\n",
    "from cmbfisher import CMBExperiment, CMBFisher"
   ]
  },
  {
   "cell_type": "code",
   "execution_count": null,
   "metadata": {
    "collapsed": true
   },
   "outputs": [],
   "source": [
    "planck15 = Planck2015()\n",
    "expt = CMBExperiment(name=\"Planck\")\n",
    "cmbfisher = CMBFisher(expt, planck15, \n",
    "                     params = [\"n\", \"r\", \"As\"],\n",
    "                     param_values = [planck15.n, 0.05, planck15.As],\n",
    "                     param_names = ['$n_s$', '$r$', '$A_s$'])"
   ]
  },
  {
   "cell_type": "code",
   "execution_count": null,
   "metadata": {
    "collapsed": false
   },
   "outputs": [],
   "source": [
    "cmbfisher.include_polarization = False\n",
    "cmbfisher.fisher('tt')\n",
    "cmbfisher.covariance()"
   ]
  },
  {
   "cell_type": "code",
   "execution_count": null,
   "metadata": {
    "collapsed": false
   },
   "outputs": [],
   "source": [
    "import matplotlib.pyplot as plt\n",
    "%matplotlib inline\n",
    "\n",
    "cmbfisher.plot_error_matrix([0,1,2])"
   ]
  }
 ],
 "metadata": {
  "kernelspec": {
   "display_name": "Python 3",
   "language": "python",
   "name": "python3"
  },
  "language_info": {
   "codemirror_mode": {
    "name": "ipython",
    "version": 3
   },
   "file_extension": ".py",
   "mimetype": "text/x-python",
   "name": "python",
   "nbconvert_exporter": "python",
   "pygments_lexer": "ipython3",
   "version": "3.6.0"
  }
 },
 "nbformat": 4,
 "nbformat_minor": 2
}
